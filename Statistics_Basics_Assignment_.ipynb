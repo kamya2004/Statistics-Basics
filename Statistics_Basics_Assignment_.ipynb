{
  "nbformat": 4,
  "nbformat_minor": 0,
  "metadata": {
    "colab": {
      "provenance": []
    },
    "kernelspec": {
      "name": "python3",
      "display_name": "Python 3"
    },
    "language_info": {
      "name": "python"
    }
  },
  "cells": [
    {
      "cell_type": "markdown",
      "source": [
        "# STATISTICS BASICS THEORY ASSIGNMENT\n"
      ],
      "metadata": {
        "id": "xNxIUNnjT_Eu"
      }
    },
    {
      "cell_type": "markdown",
      "source": [
        "# 1.  What is statistics, and why is it important?"
      ],
      "metadata": {
        "id": "lfM26sTBUM20"
      }
    },
    {
      "cell_type": "markdown",
      "source": [
        "Statistics is the collection and analysis of data drawn from a sample group to study and interpret their applicability to the larger population.\n",
        "\n",
        "- IT IS IMPORTANT BECAUSE -\n",
        "\n",
        "Statistics is used to conduct research, evaluate outcomes, develop critical thinking, and make informed decisions about a set of data. Statistics can be used to inquire about almost any field of study to investigate why things happen, when they occur, and whether reoccurrence is predictable."
      ],
      "metadata": {
        "id": "pU0aPVfrUgqH"
      }
    },
    {
      "cell_type": "markdown",
      "source": [
        "# 2. What are the two main types of statistics?"
      ],
      "metadata": {
        "id": "tU68SlUGV1rg"
      }
    },
    {
      "cell_type": "markdown",
      "source": [
        "The two main types of statistics are -\n",
        "\n",
        "-  Descriptive Statistics\n",
        "- Inferential Statistics\n",
        "\n"
      ],
      "metadata": {
        "id": "tqYG9dMJWIpb"
      }
    },
    {
      "cell_type": "markdown",
      "source": [
        "# 3.  What are descriptive statistics?"
      ],
      "metadata": {
        "id": "xUTLCAiaXT17"
      }
    },
    {
      "cell_type": "markdown",
      "source": [
        "Descriptive statistics involve organizing, summarizing, and presenting data in a meaningful way, allowing us to gain insights into the data’s main characteristics. These statistics help us create a concise and informative snapshot of the data at hand."
      ],
      "metadata": {
        "id": "DuVfdpcBXcG6"
      }
    },
    {
      "cell_type": "markdown",
      "source": [
        "# 4.  What is inferential statistics?"
      ],
      "metadata": {
        "id": "n7cXgPb9Xk9S"
      }
    },
    {
      "cell_type": "markdown",
      "source": [
        "Inferential statistics involve drawing conclusions and making predictions about a population based on a sample of data. These methods allow us to make educated guesses or inferences about the entire population from a limited subset."
      ],
      "metadata": {
        "id": "iIMqYJUhXs5v"
      }
    },
    {
      "cell_type": "markdown",
      "source": [
        "# 5. What is sampling in statistics?"
      ],
      "metadata": {
        "id": "bPpYCOajYu9k"
      }
    },
    {
      "cell_type": "markdown",
      "source": [
        "Sampling refers to the process of selecting a subset of individuals or data points from a larger population to study and make inferences about the entire population. It's a practical way to gather information when examining the entire population is too costly, time-consuming, or impossible."
      ],
      "metadata": {
        "id": "Sky-ZYf8Y31P"
      }
    },
    {
      "cell_type": "markdown",
      "source": [
        "# 6. What are the different types of sampling methodS?"
      ],
      "metadata": {
        "id": "62XoePArZJMn"
      }
    },
    {
      "cell_type": "markdown",
      "source": [
        "There are four main types of probability sample->\n",
        "\n",
        "- Simple Random Sampling\n",
        "\n",
        "- Stratified Sampling\n",
        "\n",
        "- Cluster Sampling\n",
        "\n",
        "- Systematic Sampling\n",
        "\n"
      ],
      "metadata": {
        "id": "wuteMuH_ZdG2"
      }
    },
    {
      "cell_type": "markdown",
      "source": [
        "# 7.  What is the difference between random and non-random sampling?"
      ],
      "metadata": {
        "id": "myYLLT1sacIs"
      }
    },
    {
      "cell_type": "markdown",
      "source": [
        "Random Sampling:-\n",
        "\n",
        "- Definition:\n",
        "Random sampling involves selecting individuals from a population in such a way that each member has a known and equal probability of being chosen.\n",
        "\n",
        "- Example:\n",
        "Drawing names from a hat, or using a random number generator to select participants.\n",
        "\n",
        "- Benefits:\n",
        "Minimizes bias, provides a representative sample, and allows for statistical inference about the population.\n",
        "\n",
        "- Methods:\n",
        "Includes techniques like simple random sampling, stratified random sampling, cluster sampling, and systematic sampling.\n",
        "\n",
        "- Limitations:\n",
        "Can be time-consuming and expensive, and may not always be feasible, especially if the population is difficult to define or access.\n",
        "\n",
        "Non-Random Sampling:-\n",
        "\n",
        "- Definition:\n",
        "Non-random sampling involves selecting individuals based on specific criteria, convenience, or the researcher's judgment.\n",
        "\n",
        "- Example:\n",
        "Conducting a survey at a mall, interviewing people who are available, or selecting experts in a particular field.\n",
        "\n",
        "- Benefits:\n",
        "Often faster and cheaper than random sampling, can be useful for exploratory studies, and may be necessary when access to a full population is limited.\n",
        "\n",
        "- Methods:\n",
        "Includes techniques like convenience sampling, purposive sampling, quota sampling, and snowball sampling.\n",
        "\n",
        "- Limitations:\n",
        "May introduce bias, can't generalize findings to the larger population, and may not be suitable for conclusive research.\n"
      ],
      "metadata": {
        "id": "ywEi2SoTaqYH"
      }
    },
    {
      "cell_type": "markdown",
      "source": [
        "# 8.  Define and give examples of qualitative and quantitative data."
      ],
      "metadata": {
        "id": "BVucMjvQnPLc"
      }
    },
    {
      "cell_type": "markdown",
      "source": [
        "QUALITATIVE DATA->\n",
        "\n",
        "- Definition: Information that is not expressed numerically and is often used to understand the qualities, characteristics, or meanings behind something.\n",
        "\n",
        "- Examples:\n",
        "\n",
        "= The color of a flower (red, blue, yellow).\n",
        "\n",
        "= The taste of an apple (sweet, tart, acidic).\n",
        "\n",
        "= A person's opinion on a product (positive, negative, neutral).\n",
        "\n",
        "= Ethnographic observations (describing cultural practices).\n",
        "\n",
        "- Data Collection Methods: Interviews, focus groups, observations, document analysis.\n",
        "\n",
        "QUANTITATIVE DATA->\n",
        "\n",
        "- Definition: Information that can be expressed numerically and is used to measure or count things.\n",
        "\n",
        "- Examples:\n",
        "\n",
        "= Height (in inches or centimeters).\n",
        "\n",
        "= Weight (in pounds or kilograms).\n",
        "\n",
        "= Age (in years).\n",
        "\n",
        "= The number of students in a class.\n",
        "\n",
        "- Data Collection Methods: Surveys, experiments, statistical data collection."
      ],
      "metadata": {
        "id": "gpLafOwRnYvA"
      }
    },
    {
      "cell_type": "markdown",
      "source": [
        "# 9. What are the different types of data in statistics?"
      ],
      "metadata": {
        "id": "oXfzOsoCpC2r"
      }
    },
    {
      "cell_type": "markdown",
      "source": [
        "QUALITATIVE DATA:\n",
        "\n",
        "Qualitative Data is also called Categorical Data and it categorizes the data into various categories. Qualitative data includes data such as the gender of people, their family names, and others in a sample of population data.\n",
        "\n",
        "-> Qualitative data is further categorized into two categories:\n",
        "\n",
        "- Nominal Data\n",
        "- Ordinal Data\n",
        "\n",
        "QUANTITATIVE DATA:\n",
        "\n",
        "Quantitative Data is the type of data that represents the numerical value of the data. They are also called Numerical Data. This data type is used to represent the height, weight, length, and other things of the data.\n",
        "\n",
        "->  Quantitative data is further classified into two categories:\n",
        "\n",
        "- Discrete Data\n",
        "- Continuous Data\n"
      ],
      "metadata": {
        "id": "gsaXuigbpkh-"
      }
    },
    {
      "cell_type": "markdown",
      "source": [
        "# 10. Explain nominal, ordinal, interval, and ratio levels of measurement."
      ],
      "metadata": {
        "id": "KmUG7uJQrmeZ"
      }
    },
    {
      "cell_type": "markdown",
      "source": [
        "The four levels of measurement, from least to most sophisticated, are nominal, ordinal, interval, and ratio. These levels describe how variables are categorized and ranked, with each level building upon the previous one by adding more properties.\n",
        "\n",
        "-> Nominal:\n",
        "\n",
        "- Definition: Nominal scales are used to label variables into distinct categories, where the numbers serve as tags or labels.\n",
        "\n",
        "-> Ordinal:\n",
        "\n",
        "- Definition:\n",
        "Ordinal scales allow for the categorization and ranking of variables, indicating a relative order.\n",
        "\n",
        "-> Interval:\n",
        "\n",
        "- Definition: Interval scales allow for the categorization, ranking, and measurement of the differences between values.\n",
        "\n",
        "-> Ratio:\n",
        "\n",
        "- Definition: Ratio scales have all the properties of interval scales but also include a true zero point, meaning that a value of zero indicates the absence of the quantity being measured."
      ],
      "metadata": {
        "id": "nqbDPQAWtXxm"
      }
    },
    {
      "cell_type": "markdown",
      "source": [
        "# 11.  What is the measure of central tendency?"
      ],
      "metadata": {
        "id": "LQI-_bmJuUtd"
      }
    },
    {
      "cell_type": "markdown",
      "source": [
        "Measures of central tendency are statistics that represent the central or typical value of a dataset. They help summarize data by providing a single value that represents the \"middle\" of the data distribution.\n",
        "\n",
        "-> The three main measures are:\n",
        "\n",
        "- Mean: The average of all data points.\n",
        "- Median: The middle value when the data is ordered.\n",
        "- Mode: The most frequently occurring value in the dataset."
      ],
      "metadata": {
        "id": "okxfkZDCuoGu"
      }
    },
    {
      "cell_type": "markdown",
      "source": [
        "# 12.  Define mean, median, and mode."
      ],
      "metadata": {
        "id": "3ILHBcDj0Y4M"
      }
    },
    {
      "cell_type": "markdown",
      "source": [
        "- Mean:\n",
        "To find the mean, add up all the numbers in a dataset and then divide by the total count of numbers. For example, the mean of 2, 4, and 6 is (2+4+6)/3 = 4.\n",
        "\n",
        "- Median:\n",
        "To find the median, first arrange the numbers in ascending order. The median is the middle number. If there's an even number of values, the median is the average of the two middle numbers. For example, the median of 2, 4, and 6 is 4.\n",
        "- Mode:\n",
        "The mode is the number that appears most often in a dataset. For example, in the set {2, 4, 4, 6}, the mode is 4."
      ],
      "metadata": {
        "id": "vF4-u_6e0nKd"
      }
    },
    {
      "cell_type": "markdown",
      "source": [
        "# 13. What is the significance of the measure of central tendency?"
      ],
      "metadata": {
        "id": "OWb7Rgqs1WV6"
      }
    },
    {
      "cell_type": "markdown",
      "source": [
        "-> Significance of Central Tendency:\n",
        "\n",
        "- Summarization: They provide a concise overview of a dataset's central location.\n",
        "\n",
        "- Comparison: They allow for easy comparison of different datasets by representing their \"typical\" values.\n",
        "\n",
        "- Decision-Making: In various fields, including business and research, these measures help in making informed decisions based on data analysis.\n",
        "\n",
        "- Data Description: They help describe the general nature of a dataset's distribution.\n",
        "\n",
        "- Foundation for Further Analysis: They are the basis for more advanced statistical analyses."
      ],
      "metadata": {
        "id": "QvXQvj1s1ow3"
      }
    },
    {
      "cell_type": "markdown",
      "source": [
        "# 14.  What is variance, and how is it calculated?"
      ],
      "metadata": {
        "id": "ZGTjay6q2VY2"
      }
    },
    {
      "cell_type": "markdown",
      "source": [
        "Variance is a statistical measure that quantifies the spread or dispersion of data points in a dataset. It indicates how much the individual values in a dataset deviate from the mean (average) value. A higher variance means the data points are more spread out, while a lower variance indicates they are clustered closer to the mean.\n",
        "\n",
        "-> Calculation:\n",
        "\n",
        "- Calculate the mean: Sum all the values in the dataset and divide by the number of values.\n",
        "\n",
        "- Find the difference from the mean: Subtract the mean from each individual value in the dataset. [2-5=-3, 5-5=0, 8-5=3]\n",
        "\n",
        "- Square the differences: Square each of the differences calculated in the previous step. [(-3)^2=9, 0^2=0, 3^2=9]\n",
        "\n",
        "- Sum the squared differences: Add up all the squared differences. [9+0+9=18]\n",
        "\n",
        "- Divide by (n-1): For a sample variance, divide the sum of squared differences by the number of values minus one (n-1). For population variance, divide by the total number of values (N). [18/ (3-1) =\n",
        "\n",
        "-> Formula:\n",
        "\n",
        "- Sample Variance (s²):\n",
        "s² = Σ (xi - x̄)² / (n - 1), where xi is each data point, x̄ is the sample mean, and n is the number of data points in the sample.\n",
        "\n",
        "- Population Variance (σ²):\n",
        "σ² = Σ (xi - μ)² / N, where xi is each data point, μ is the population mean, and N is the number of data points in the population."
      ],
      "metadata": {
        "id": "KgLfLkCQ2gl5"
      }
    },
    {
      "cell_type": "markdown",
      "source": [
        "# 15.  What is standard deviation, and why is it important?"
      ],
      "metadata": {
        "id": "j-yPRdrW31pl"
      }
    },
    {
      "cell_type": "markdown",
      "source": [
        "Standard deviation is a statistical measure that quantifies the amount of variation or dispersion of a set of data values around its mean (average). A low standard deviation indicates that the data points tend to be very close to the mean, while a high standard deviation indicates that the data points are spread out over a wider range of values. It's crucial for understanding data reliability and risk, especially in fields like finance and quality control.\n",
        "\n",
        "-> it's important:\n",
        "\n",
        "- Data reliability: A low standard deviation suggests that the mean is a more reliable representation of the data because most values are close to it.\n",
        "\n",
        "- Risk assessment: In finance, a higher standard deviation for investment returns indicates greater risk, meaning the actual returns could deviate significantly from the average.\n",
        "\n",
        "- Quality control: In manufacturing, a low standard deviation for product dimensions indicates more consistent quality.\n",
        "\n",
        "- Understanding distributions: Standard deviation helps understand the spread of data in relation to the mean, especially in datasets that follow a normal distribution (bell curve). For example, in a normal distribution, roughly 68% of the data falls within one standard deviation of the mean, and about 95% falls within two standard deviations.\n",
        "\n",
        "- Comparing datasets: Standard deviation allows for the comparison of different datasets with varying spreads."
      ],
      "metadata": {
        "id": "K712nc5X3_9B"
      }
    },
    {
      "cell_type": "markdown",
      "source": [
        "# 16.  Define and explain the term range in statistics."
      ],
      "metadata": {
        "id": "2MXwXIYX4oVr"
      }
    },
    {
      "cell_type": "markdown",
      "source": [
        "The range is a simple measure of variability that represents the difference between the highest and lowest values in a dataset. It provides a quick overview of the spread or dispersion of the data."
      ],
      "metadata": {
        "id": "C3DCFFyr4w7d"
      }
    },
    {
      "cell_type": "markdown",
      "source": [
        "# 17. What is the difference between variance and standard deviation?"
      ],
      "metadata": {
        "id": "g450hpdv5ThR"
      }
    },
    {
      "cell_type": "markdown",
      "source": [
        "-> Variance:\n",
        "\n",
        "- Measures the average degree to which each point in a data set differs from the mean.\n",
        "\n",
        "- Calculated by squaring the differences between each data point and the mean, summing these squared differences, and then dividing by the number of data points (or number of data points minus one for a sample).\n",
        "\n",
        "- Results in a value expressed in squared units, which can make it difficult to interpret directly.\n",
        "\n",
        "\n",
        "-> Standard Deviation:\n",
        "\n",
        "- The square root of the variance.\n",
        "\n",
        "- Represents the typical distance of data points from the mean.\n",
        "\n",
        "- Expressed in the same units as the original data, making it more intuitive to understand the spread of the data."
      ],
      "metadata": {
        "id": "VPZPpwcS5cnT"
      }
    },
    {
      "cell_type": "markdown",
      "source": [
        "# 18.What is skewness in a dataset?"
      ],
      "metadata": {
        "id": "4RfnfJuR6Chk"
      }
    },
    {
      "cell_type": "markdown",
      "source": [
        "Skewness in a dataset refers to the measure of its asymmetry, or the lack of symmetry, in its distribution. It indicates whether the data is more concentrated on one side of the mean compared to the other. A symmetric distribution, like a normal distribution, has a balanced, bell-shaped curve with the mean, median, and mode all equal. In contrast, skewed distributions have a longer tail on one side, either the left or the right, indicating that extreme values are present on that side."
      ],
      "metadata": {
        "id": "6uK1TDyb6gp9"
      }
    },
    {
      "cell_type": "markdown",
      "source": [
        "# 19.What does it mean if a dataset is positively or negatively skewed?"
      ],
      "metadata": {
        "id": "fTK9nfrA6zaA"
      }
    },
    {
      "cell_type": "markdown",
      "source": [
        "Skewness describes the asymmetry of a distribution. A dataset is positively skewed (or skewed right) when the tail of the distribution is longer on the right side, meaning there are more low values and a few very high values. Conversely, a dataset is negatively skewed (or skewed left) when the tail is longer on the left side, indicating more high values and a few very low values."
      ],
      "metadata": {
        "id": "CVdRvwhN6_Qj"
      }
    },
    {
      "cell_type": "markdown",
      "source": [
        "# 20. Define and explain kurtosis."
      ],
      "metadata": {
        "id": "gxD8gq137Qe7"
      }
    },
    {
      "cell_type": "markdown",
      "source": [
        "Kurtosis is a statistical measure that describes the shape of a probability distribution, specifically the \"peakedness\" or \"tailedness\" of the distribution relative to a normal distribution. It indicates how much the data is concentrated around the mean (peak) and in the tails of the distribution."
      ],
      "metadata": {
        "id": "8tSsNZfh7Zaf"
      }
    },
    {
      "cell_type": "markdown",
      "source": [
        "# 21. What is the purpose of covariance?"
      ],
      "metadata": {
        "id": "xHUg-sHb7pdm"
      }
    },
    {
      "cell_type": "markdown",
      "source": [
        "The purpose of covariance is to measure the degree to which two variables change together. It indicates whether two variables tend to increase or decrease simultaneously (positive covariance) or if one tends to increase as the other decreases (negative covariance). Covariance helps understand the direction of the relationship between variables, but it doesn't measure the strength of that relationship."
      ],
      "metadata": {
        "id": "Inx9mCZ17zDe"
      }
    },
    {
      "cell_type": "markdown",
      "source": [
        "# 22.What does correlation measure in statistics?"
      ],
      "metadata": {
        "id": "jMIkTuV58TMW"
      }
    },
    {
      "cell_type": "markdown",
      "source": [
        "Correlation measures the strength and direction of a relationship between two or more variables. It indicates how closely the variables change together, either in the same direction (positive correlation) or in opposite directions (negative correlation). Importantly, correlation does not imply causation; just because two variables are correlated does not mean one causes the other."
      ],
      "metadata": {
        "id": "0za7ol6N8ei6"
      }
    },
    {
      "cell_type": "markdown",
      "source": [
        "# 23.What is the difference between covariance and correlation?"
      ],
      "metadata": {
        "id": "Fmr1Jsif9E44"
      }
    },
    {
      "cell_type": "markdown",
      "source": [
        "-> Covariance:\n",
        "\n",
        "- Definition: Measures the extent to which two variables change together. A positive covariance indicates that when one variable increases, the other tends to increase as well, and vice versa for negative covariance.\n",
        "\n",
        "- Range: Can range from negative infinity to positive infinity (-∞ to +∞).\n",
        "\n",
        "- Limitations: Covariance is affected by the scale of the variables. If you change the units of measurement (e.g., from kilograms to grams), the covariance value will change.\n",
        "\n",
        "-> Correlation:\n",
        "\n",
        "- Definition: A standardized measure of the linear relationship between two variables. It not only indicates the direction of the relationship (positive or negative) but also its strength.\n",
        "Range: Always falls between -1 and +1 (-1 to +1).\n",
        "\n",
        "- Benefits: Correlation is easier to interpret than covariance because it is standardized. A correlation of +1 indicates a perfect positive linear relationship, -1 indicates a perfect negative linear relationship, and 0 indicates no linear relationship.\n",
        "\n",
        "- Scale-independent: Correlation is not affected by changes in the scale of the variables."
      ],
      "metadata": {
        "id": "pvFF_Ybf9T1M"
      }
    },
    {
      "cell_type": "markdown",
      "source": [
        "# 24. What are some real-world applications of statistics?"
      ],
      "metadata": {
        "id": "sAeSIAIn974_"
      }
    },
    {
      "cell_type": "markdown",
      "source": [
        "Statistics are used in a wide variety of fields to analyze data, identify trends, and make informed decisions. Some examples include:\n",
        "\n",
        "- Business:\n",
        "Analyzing sales data, market trends, and customer behavior.\n",
        "\n",
        "- Healthcare:\n",
        "Conducting clinical trials, analyzing patient data, and understanding disease patterns.\n",
        "\n",
        "- Finance:\n",
        "Assessing investment risks, predicting market fluctuations, and developing financial models.\n",
        "\n",
        "- Government:\n",
        "Analyzing census data, tracking crime rates, and evaluating the effectiveness of policies.\n",
        "\n",
        "- Education:\n",
        "Evaluating student performance, determining the effectiveness of teaching methods, and tracking graduation rates.\n",
        "\n",
        "- Sports:\n",
        "Analyzing player statistics, predicting game outcomes, and evaluating team performance.\n",
        "\n",
        "- Environmental Science:\n",
        "Monitoring pollution levels, tracking climate change trends, and assessing the impact of natural disasters."
      ],
      "metadata": {
        "id": "UOLekkit-JKD"
      }
    },
    {
      "cell_type": "markdown",
      "source": [
        "# PRACTICAL QUESTIONS"
      ],
      "metadata": {
        "id": "bCBR7oUN-om9"
      }
    },
    {
      "cell_type": "markdown",
      "source": [
        "# 1.How do you calculate the mean, median, and mode of a dataset?"
      ],
      "metadata": {
        "id": "Mek9LzToRhEG"
      }
    },
    {
      "cell_type": "markdown",
      "source": [
        "To calculate the mean, median, and mode of a dataset:\n",
        "\n",
        "- Mean: Add up all the numbers in the dataset and divide the sum by the total number of items in the dataset.\n",
        "\n",
        "- Median: Arrange the dataset in order from smallest to largest. The median is the middle number in the ordered list. If there's an even number of items, the median is the average of the two middle numbers.\n",
        "\n",
        "- Mode: The mode is the number that appears most frequently in the dataset.\n",
        "\n",
        "-> Example:\n",
        "\n",
        "The dataset is: 2, 5, 3, 5, 8, 1, 5\n",
        "\n",
        "- Mean: (2 + 5 + 3 + 5 + 8 + 1 + 5) / 7 = 29 / 7 = 4.14\n",
        "\n",
        "- Median: 1, 2, 3, 5, 5, 5, 8.\n",
        " The median is 5\n",
        "\n",
        "- Mode: 5 appears three times, which is more than any other number, so the mode is 5."
      ],
      "metadata": {
        "id": "5cXccV7qSK7T"
      }
    },
    {
      "cell_type": "markdown",
      "source": [
        "# 2.Write a Python program to compute the variance and standard deviation of a dataset."
      ],
      "metadata": {
        "id": "uRdcrF7LS27e"
      }
    },
    {
      "cell_type": "code",
      "source": [
        "import statistics\n",
        "\n",
        "def calculate_variance_and_std_dev(data):\n",
        "  \"\"\"\n",
        "  Calculates the sample variance and standard deviation of a dataset.\n",
        "\n",
        "  Args:\n",
        "    data: A list or tuple of numerical data.\n",
        "\n",
        "  Returns:\n",
        "    A tuple containing the sample variance and sample standard deviation.\n",
        "  \"\"\"\n",
        "  if len(data) < 2:\n",
        "    return None, None\n",
        "\n",
        "  variance = statistics.variance(data)\n",
        "  std_dev = statistics.stdev(data)\n",
        "\n",
        "  return variance, std_dev\n"
      ],
      "metadata": {
        "id": "b2h4yydqUB_Q"
      },
      "execution_count": 3,
      "outputs": []
    },
    {
      "cell_type": "code",
      "source": [
        "dataset = [2, 5, 3, 5, 8, 1, 5]\n",
        "variance, std_dev = calculate_variance_and_std_dev(dataset)\n",
        "\n",
        "if variance is not None:\n",
        "  print(f\"Dataset: {dataset}\")\n",
        "  print(f\"Sample Variance: {variance}\")\n",
        "  print(f\"Sample Standard Deviation: {std_dev}\")\n",
        "else:\n",
        "  print(\"Dataset must contain at least two data points to calculate variance and standard deviation.\")"
      ],
      "metadata": {
        "colab": {
          "base_uri": "https://localhost:8080/"
        },
        "id": "sm7c9odlUNVY",
        "outputId": "960575a1-8254-47a0-9aa2-ad67f2c456b9"
      },
      "execution_count": 4,
      "outputs": [
        {
          "output_type": "stream",
          "name": "stdout",
          "text": [
            "Dataset: [2, 5, 3, 5, 8, 1, 5]\n",
            "Sample Variance: 5.476190476190476\n",
            "Sample Standard Deviation: 2.340126166724879\n"
          ]
        }
      ]
    },
    {
      "cell_type": "markdown",
      "source": [
        "# 3.Create a dataset and classify it into nominal, ordinal, interval, and ratio types."
      ],
      "metadata": {
        "id": "MZoGA-CHUuqN"
      }
    },
    {
      "cell_type": "markdown",
      "source": [
        "| Student ID | Name    | Gender | Grade Level | Satisfaction Level | Test Score | Temperature (°C) | Height (cm) |\n",
        "| ---------- | ------- | ------ | ----------- | ------------------ | ---------- | ---------------- | ----------- |\n",
        "| 001        | Alice   | Female | Freshman    | Very Satisfied     | 88         | 22               | 160         |\n",
        "| 002        | Bob     | Male   | Sophomore   | Satisfied          | 76         | 20               | 175         |\n",
        "| 003        | Charlie | Male   | Junior      | Neutral            | 65         | 19               | 168         |\n",
        "| 004        | Dana    | Female | Senior      | Dissatisfied       | 90         | 21               | 158         |\n",
        "| 005        | Eva     | Female | Freshman    | Very Dissatisfied  | 82         | 23               | 162         |\n"
      ],
      "metadata": {
        "id": "tI-ofN7CX-Ax"
      }
    },
    {
      "cell_type": "markdown",
      "source": [
        "| Variable               | Data Type | Explanation                                                                                                         |\n",
        "| ---------------------- | --------- | ------------------------------------------------------------------------------------------------------------------- |\n",
        "| **Student ID**         | Nominal   | Unique identifiers; no meaningful order or arithmetic operations.                                                   |\n",
        "| **Name**               | Nominal   | Labels used for identification; not ordered or measured.                                                            |\n",
        "| **Gender**             | Nominal   | Categories with no natural order (e.g., Male, Female).                                                              |\n",
        "| **Grade Level**        | Ordinal   | Categories with a meaningful order (Freshman → Senior), but differences between them are not uniform or measurable. |\n",
        "| **Satisfaction Level** | Ordinal   | Ranked categories (e.g., Very Dissatisfied to Very Satisfied).                                                      |\n",
        "| **Test Score**         | Ratio     | Numeric values with a true zero; differences and ratios are meaningful.                                             |\n",
        "| **Temperature (°C)**   | Interval  | Measurable and ordered; difference matters, but zero is arbitrary (not the absence of temperature).                 |\n",
        "| **Height (cm)**        | Ratio     | Numeric, has a true zero, and ratios are meaningful (e.g., 180 cm is twice as tall as 90 cm).                       |\n"
      ],
      "metadata": {
        "id": "MzFuo5R-YI91"
      }
    },
    {
      "cell_type": "markdown",
      "source": [
        "# 4. Implement sampling techniques like random sampling and stratified sampling."
      ],
      "metadata": {
        "id": "2Rz0ZBPvYRI2"
      }
    },
    {
      "cell_type": "markdown",
      "source": [
        "RANDOM SAMPLING TABLE"
      ],
      "metadata": {
        "id": "h2iNsM9dYg4v"
      }
    },
    {
      "cell_type": "markdown",
      "source": [
        "| Student ID | Name  | Gender | Grade Level | Satisfaction Level | Test Score | Temperature (°C) | Height (cm) |\n",
        "| ---------- | ----- | ------ | ----------- | ------------------ | ---------- | ---------------- | ----------- |\n",
        "| 002        | Bob   | Male   | Sophomore   | Satisfied          | 76         | 20               | 175         |\n",
        "| 006        | Frank | Male   | Sophomore   | Neutral            | 73         | 22               | 180         |\n",
        "| 001        | Alice | Female | Freshman    | Very Satisfied     | 88         | 22               | 160         |\n",
        "| 008        | Henry | Male   | Senior      | Very Satisfied     | 85         | 21               | 170         |\n"
      ],
      "metadata": {
        "id": "L0dtJ66AZhy-"
      }
    },
    {
      "cell_type": "markdown",
      "source": [
        "STRATIFIED SAMPLING"
      ],
      "metadata": {
        "id": "P6bAdBJHZjE6"
      }
    },
    {
      "cell_type": "markdown",
      "source": [
        "| Student ID | Name    | Gender | Grade Level | Satisfaction Level | Test Score | Temperature (°C) | Height (cm) |\n",
        "| ---------- | ------- | ------ | ----------- | ------------------ | ---------- | ---------------- | ----------- |\n",
        "| 003        | Charlie | Male   | Junior      | Neutral            | 65         | 19               | 168         |\n",
        "| 006        | Frank   | Male   | Sophomore   | Neutral            | 73         | 22               | 180         |\n",
        "| 005        | Eva     | Female | Freshman    | Very Dissatisfied  | 82         | 23               | 162         |\n",
        "| 008        | Henry   | Male   | Senior      | Very Satisfied     | 85         | 21               | 170         |\n"
      ],
      "metadata": {
        "id": "NRssdbhAZqaO"
      }
    },
    {
      "cell_type": "markdown",
      "source": [
        "# 5.Write a Python function to calculate the range of a dataset."
      ],
      "metadata": {
        "id": "qm0N90zUZvct"
      }
    },
    {
      "cell_type": "code",
      "source": [
        "def calculate_range(data):\n",
        "    \"\"\"\n",
        "    Calculate the range of a numeric dataset.\n",
        "\n",
        "    Parameters:\n",
        "    data (list or iterable of numbers): The dataset to calculate the range for.\n",
        "\n",
        "    Returns:\n",
        "    float: The range (max - min) of the dataset.\n",
        "    \"\"\"\n",
        "    if not data:\n",
        "        raise ValueError(\"The dataset is empty.\")\n",
        "    return max(data) - min(data)\n"
      ],
      "metadata": {
        "id": "PYkxc4xEaqXB"
      },
      "execution_count": 7,
      "outputs": []
    },
    {
      "cell_type": "code",
      "source": [
        "scores = [88, 76, 65, 90, 82]\n",
        "range_of_scores = calculate_range(scores)\n",
        "print(\"Range of scores:\", range_of_scores)\n"
      ],
      "metadata": {
        "colab": {
          "base_uri": "https://localhost:8080/"
        },
        "id": "RKsbT7IMarhn",
        "outputId": "2192d8e6-295b-48ef-eb62-5d002e21d142"
      },
      "execution_count": 8,
      "outputs": [
        {
          "output_type": "stream",
          "name": "stdout",
          "text": [
            "Range of scores: 25\n"
          ]
        }
      ]
    },
    {
      "cell_type": "markdown",
      "source": [
        "# 6. Create a dataset and plot its histogram to visualize skewness."
      ],
      "metadata": {
        "id": "ZIw24yFeayRe"
      }
    },
    {
      "cell_type": "code",
      "metadata": {
        "colab": {
          "base_uri": "https://localhost:8080/"
        },
        "id": "e5071ba5",
        "outputId": "19ed4088-4d7e-4b84-82ee-bfe7edbee67d"
      },
      "source": [
        "import pandas as pd\n",
        "import matplotlib.pyplot as plt\n",
        "import seaborn as sns\n",
        "import numpy as np\n",
        "\n",
        "np.random.seed(42)\n",
        "right_skewed_data = np.random.exponential(scale=5, size=200)\n",
        "\n",
        "\n",
        "data = {'Values': right_skewed_data}\n",
        "df_skewed = pd.DataFrame(data)\n",
        "\n",
        "print(\"Sample Dataset Head:\")\n",
        "print(df_skewed.head())"
      ],
      "execution_count": 9,
      "outputs": [
        {
          "output_type": "stream",
          "name": "stdout",
          "text": [
            "Sample Dataset Head:\n",
            "      Values\n",
            "0   2.346340\n",
            "1  15.050607\n",
            "2   6.583728\n",
            "3   4.564713\n",
            "4   0.848124\n"
          ]
        }
      ]
    },
    {
      "cell_type": "code",
      "metadata": {
        "colab": {
          "base_uri": "https://localhost:8080/",
          "height": 436
        },
        "id": "7e49907d",
        "outputId": "33849aeb-795c-46dc-cea3-3f383a94cb09"
      },
      "source": [
        "# Plotting the histogram\n",
        "plt.figure(figsize=(10, 6))\n",
        "sns.histplot(df_skewed['Values'], kde=True)\n",
        "plt.title('Histogram to Visualize Skewness')\n",
        "plt.xlabel('Values')\n",
        "plt.ylabel('Frequency')\n",
        "plt.show()"
      ],
      "execution_count": 10,
      "outputs": [
        {
          "output_type": "display_data",
          "data": {
            "text/plain": [
              "<Figure size 1000x600 with 1 Axes>"
            ],
            "image/png": "[encoded data removed]"
          },
          "metadata": {}
        }
      ]
    },
    {
      "cell_type": "markdown",
      "source": [
        "# 7.Calculate skewness and kurtosis of a dataset using Python libraries."
      ],
      "metadata": {
        "id": "xVfFIV-vcEQR"
      }
    },
    {
      "cell_type": "code",
      "metadata": {
        "colab": {
          "base_uri": "https://localhost:8080/"
        },
        "id": "00950234",
        "outputId": "186c9b42-785e-47bf-aed1-3c71e0614d20"
      },
      "source": [
        "from scipy.stats import skew, kurtosis\n",
        "\n",
        "skewness = skew(df_skewed['Values'])\n",
        "kurt = kurtosis(df_skewed['Values'])\n",
        "\n",
        "print(f\"Skewness of the dataset: {skewness}\")\n",
        "print(f\"Kurtosis of the dataset: {kurt}\")"
      ],
      "execution_count": 11,
      "outputs": [
        {
          "output_type": "stream",
          "name": "stdout",
          "text": [
            "Skewness of the dataset: 1.3663300866716612\n",
            "Kurtosis of the dataset: 1.4995374257475556\n"
          ]
        }
      ]
    },
    {
      "cell_type": "markdown",
      "source": [
        "# 8.Generate a dataset and demonstrate positive and negative skewness."
      ],
      "metadata": {
        "id": "qWWqCzzUchQR"
      }
    },
    {
      "cell_type": "code",
      "source": [
        "import numpy as np\n",
        "import matplotlib.pyplot as plt\n",
        "import scipy.stats as stats\n",
        "\n",
        "# Generate a positively skewed dataset\n",
        "positive_skew_data = np.random.exponential(scale=2, size=1000)\n",
        "\n",
        "# Generate a negatively skewed dataset\n",
        "negative_skew_data = -np.random.exponential(scale=2, size=1000)\n",
        "\n",
        "# Generate a symmetrical dataset\n",
        "symmetrical_data = np.random.normal(loc=0, scale=1, size=1000)\n",
        "\n",
        "# Calculate skewness using scipy.stats.skew()\n",
        "positive_skewness = stats.skew(positive_skew_data)\n",
        "negative_skewness = stats.skew(negative_skew_data)\n",
        "symmetrical_skewness = stats.skew(symmetrical_data)\n",
        "\n",
        "print(f\"Positive Skewness: {positive_skewness}\")\n",
        "print(f\"Negative Skewness: {negative_skewness}\")\n",
        "print(f\"Symmetrical Skewness: {symmetrical_skewness}\")\n",
        "\n",
        "# Plotting the distributions\n",
        "plt.figure(figsize=(12, 6))\n",
        "\n",
        "plt.subplot(1, 3, 1)\n",
        "plt.hist(positive_skew_data, bins=30, edgecolor='black')\n",
        "plt.title('Positive Skew')\n",
        "plt.xlabel('Values')\n",
        "plt.ylabel('Frequency')\n",
        "\n",
        "plt.subplot(1, 3, 2)\n",
        "plt.hist(negative_skew_data, bins=30, edgecolor='black')\n",
        "plt.title('Negative Skew')\n",
        "plt.xlabel('Values')\n",
        "plt.ylabel('Frequency')\n",
        "\n",
        "plt.subplot(1, 3, 3)\n",
        "plt.hist(symmetrical_data, bins=30, edgecolor='black')\n",
        "plt.title('Symmetrical')\n",
        "plt.xlabel('Values')\n",
        "plt.ylabel('Frequency')\n",
        "\n",
        "plt.tight_layout()\n",
        "plt.show()"
      ],
      "metadata": {
        "colab": {
          "base_uri": "https://localhost:8080/",
          "height": 389
        },
        "id": "WSeTEsm1eFaR",
        "outputId": "87267b0d-652d-46b3-d016-68f5c8b84f66"
      },
      "execution_count": 13,
      "outputs": [
        {
          "output_type": "stream",
          "name": "stdout",
          "text": [
            "Positive Skewness: 1.9860459418959215\n",
            "Negative Skewness: -1.7528536712534124\n",
            "Symmetrical Skewness: -0.0782173428111963\n"
          ]
        },
        {
          "output_type": "display_data",
          "data": {
            "text/plain": [
              "<Figure size 1200x600 with 3 Axes>"
            ],
            "image/png": "[encoded data removed]"
          },
          "metadata": {}
        }
      ]
    },
    {
      "cell_type": "markdown",
      "source": [
        "# 9. Write a Python script to calculate covariance between two datasets."
      ],
      "metadata": {
        "id": "8UKLbKu0eN-O"
      }
    },
    {
      "cell_type": "code",
      "metadata": {
        "colab": {
          "base_uri": "https://localhost:8080/"
        },
        "id": "acd1a690",
        "outputId": "f34f907c-ce18-4721-dfee-ddd395810bc3"
      },
      "source": [
        "import numpy as np\n",
        "\n",
        "def calculate_covariance(dataset1, dataset2):\n",
        "  \"\"\"\n",
        "  Calculates the covariance between two datasets.\n",
        "\n",
        "  Args:\n",
        "    dataset1: A list or array of numerical data.\n",
        "    dataset2: A list or array of numerical data (must have the same length as dataset1).\n",
        "\n",
        "  Returns:\n",
        "    The covariance between the two datasets, or None if the lengths are different\n",
        "    or if either dataset has fewer than 2 elements.\n",
        "  \"\"\"\n",
        "  if len(dataset1) != len(dataset2) or len(dataset1) < 2:\n",
        "    return None\n",
        "\n",
        "  # Calculate covariance using numpy's cov function\n",
        "  # The result is a covariance matrix, we take the off-diagonal element\n",
        "  covariance_matrix = np.cov(dataset1, dataset2)\n",
        "  covariance = covariance_matrix[0, 1]\n",
        "\n",
        "  return covariance\n",
        "\n",
        "# Example:\n",
        "data_a = [1, 2, 3, 4, 5]\n",
        "data_b = [5, 4, 3, 2, 1] # Negative relationship\n",
        "\n",
        "data_c = [1, 2, 3, 4, 5]\n",
        "data_d = [2, 4, 5, 4, 5] # Positive relationship\n",
        "\n",
        "cov_ab = calculate_covariance(data_a, data_b)\n",
        "cov_cd = calculate_covariance(data_c, data_d)\n",
        "\n",
        "if cov_ab is not None:\n",
        "  print(f\"Covariance between data_a and data_b: {cov_ab}\")\n",
        "\n",
        "if cov_cd is not None:\n",
        "  print(f\"Covariance between data_c and data_d: {cov_cd}\")\n",
        "\n",
        "# Example with different lengths\n",
        "data_e = [1, 2, 3]\n",
        "data_f = [4, 5]\n",
        "cov_ef = calculate_covariance(data_e, data_f)\n",
        "if cov_ef is None:\n",
        "    print(\"\\nCannot calculate covariance for datasets with different lengths.\")\n",
        "\n",
        "# Example with less than 2 elements\n",
        "data_g = [1]\n",
        "data_h = [2]\n",
        "cov_gh = calculate_covariance(data_g, data_h)\n",
        "if cov_gh is None:\n",
        "    print(\"Cannot calculate covariance for datasets with less than 2 elements.\")"
      ],
      "execution_count": 14,
      "outputs": [
        {
          "output_type": "stream",
          "name": "stdout",
          "text": [
            "Covariance between data_a and data_b: -2.5\n",
            "Covariance between data_c and data_d: 1.5\n",
            "\n",
            "Cannot calculate covariance for datasets with different lengths.\n",
            "Cannot calculate covariance for datasets with less than 2 elements.\n"
          ]
        }
      ]
    },
    {
      "cell_type": "markdown",
      "source": [
        "# 10.Write a Python script to calculate the correlation coefficient between two datasets."
      ],
      "metadata": {
        "id": "xF13mCxse4_C"
      }
    },
    {
      "cell_type": "code",
      "source": [
        "import numpy as np\n",
        "\n",
        "def calculate_correlation(dataset1, dataset2):\n",
        "    \"\"\"\n",
        "    Calculates the Pearson correlation coefficient between two datasets.\n",
        "\n",
        "    Args:\n",
        "        dataset1 (list or numpy.ndarray): The first dataset.\n",
        "        dataset2 (list or numpy.ndarray): The second dataset.\n",
        "\n",
        "    Returns:\n",
        "        float: The Pearson correlation coefficient between the two datasets.\n",
        "              Returns None if the datasets are not of equal length.\n",
        "    \"\"\"\n",
        "    if len(dataset1) != len(dataset2):\n",
        "        print(\"Error: Datasets must have the same length to calculate correlation.\")\n",
        "        return None\n",
        "\n",
        "    # Convert lists to numpy arrays for efficient calculation\n",
        "    arr1 = np.array(dataset1)\n",
        "    arr2 = np.array(dataset2)\n",
        "\n",
        "    # Calculate the correlation matrix\n",
        "    correlation_matrix = np.corrcoef(arr1, arr2)\n",
        "\n",
        "    # The Pearson correlation coefficient is at index [0, 1] or [1, 0]\n",
        "    return correlation_matrix[0, 1]\n",
        "\n",
        "# Example Usage:\n",
        "data_a = [10, 20, 30, 40, 50]\n",
        "data_b = [15, 25, 35, 45, 55]\n",
        "\n",
        "correlation_coefficient = calculate_correlation(data_a, data_b)\n",
        "\n",
        "if correlation_coefficient is not None:\n",
        "    print(f\"The correlation coefficient between data_a and data_b is: {correlation_coefficient}\")\n",
        "\n",
        "data_c = [1, 2, 3, 4, 5]\n",
        "data_d = [5, 4, 3, 2, 1]\n",
        "\n",
        "correlation_coefficient_negative = calculate_correlation(data_c, data_d)\n",
        "\n",
        "if correlation_coefficient_negative is not None:\n",
        "    print(f\"The correlation coefficient between data_c and data_d is: {correlation_coefficient_negative}\")\n",
        "\n",
        "# Example with unequal length datasets\n",
        "data_e = [1, 2, 3]\n",
        "data_f = [4, 5]\n",
        "\n",
        "correlation_unequal = calculate_correlation(data_e, data_f)"
      ],
      "metadata": {
        "colab": {
          "base_uri": "https://localhost:8080/"
        },
        "id": "Cb8WZUP0fAe3",
        "outputId": "9685b655-7c43-4693-e1f4-f219d6e11019"
      },
      "execution_count": 15,
      "outputs": [
        {
          "output_type": "stream",
          "name": "stdout",
          "text": [
            "The correlation coefficient between data_a and data_b is: 1.0\n",
            "The correlation coefficient between data_c and data_d is: -0.9999999999999999\n",
            "Error: Datasets must have the same length to calculate correlation.\n"
          ]
        }
      ]
    },
    {
      "cell_type": "markdown",
      "source": [
        "# 11. Create a scatter plot to visualize the relationship between two variables."
      ],
      "metadata": {
        "id": "E5Z4A9lKfOau"
      }
    },
    {
      "cell_type": "code",
      "metadata": {
        "colab": {
          "base_uri": "https://localhost:8080/",
          "height": 584
        },
        "id": "08b80944",
        "outputId": "05919914-e3cd-41b2-d7ef-cd5a1480c2e3"
      },
      "source": [
        "import matplotlib.pyplot as plt\n",
        "import seaborn as sns\n",
        "\n",
        "# Create a scatter plot\n",
        "plt.figure(figsize=(8, 6))\n",
        "sns.scatterplot(x='Time Spent Studying (hours)', y='Exam Score', data=df)\n",
        "plt.title('Scatter Plot of Exam Score vs. Time Spent Studying')\n",
        "plt.xlabel('Time Spent Studying (hours)')\n",
        "plt.ylabel('Exam Score')\n",
        "plt.grid(True)\n",
        "plt.show()"
      ],
      "execution_count": 19,
      "outputs": [
        {
          "output_type": "display_data",
          "data": {
            "text/plain": [
              "<Figure size 800x600 with 1 Axes>"
            ],
            "image/png": "[encoded data removed]"
          },
          "metadata": {}
        }
      ]
    },
    {
      "cell_type": "markdown",
      "source": [
        "# 12.Implement and compare simple random sampling and systematic sampling."
      ],
      "metadata": {
        "id": "-jDg4E9_gj5i"
      }
    },
    {
      "cell_type": "markdown",
      "source": [
        "-> Comparison:\n",
        "\n",
        "- Simplicity:\n",
        "Simple random sampling is conceptually simpler, while systematic sampling can be more straightforward to implement, especially with large lists.\n",
        "\n",
        "- Efficiency:\n",
        "Systematic sampling can be more efficient, as it requires less effort to select the sample once the interval is determined.\n",
        "\n",
        "- Bias:\n",
        "Simple random sampling is generally less prone to bias than systematic sampling, as it relies on a purely random selection. Systematic sampling can introduce bias if there's a pattern in the list that aligns with the sampling interval.\n",
        "\n",
        "- Equal Probability:\n",
        "In simple random sampling, every possible sample of size n has an equal chance of being selected. In systematic sampling, only those samples that include every kth element from the starting point are possible."
      ],
      "metadata": {
        "id": "chGIB456itID"
      }
    },
    {
      "cell_type": "markdown",
      "source": [
        "# 13.Calculate the mean, median, and mode of grouped data."
      ],
      "metadata": {
        "id": "umEOKjZfi7Pi"
      }
    },
    {
      "cell_type": "code",
      "metadata": {
        "colab": {
          "base_uri": "https://localhost:8080/"
        },
        "id": "bc4e54b5",
        "outputId": "dd476d06-5bf6-4ee7-8efb-6562c6bdbe89"
      },
      "source": [
        "# Calculate mean, median, and mode for 'Exam Score' grouped by 'Year of Study'\n",
        "grouped_data = df.groupby('Year of Study')['Exam Score'].agg(['mean', 'median', lambda x: x.mode().tolist()])\n",
        "\n",
        "# Rename the mode column for clarity\n",
        "grouped_data.rename(columns={'<lambda_0>': 'mode'}, inplace=True)\n",
        "\n",
        "print(\"Mean, Median, and Mode of Exam Score Grouped by Year of Study:\")\n",
        "print(grouped_data)"
      ],
      "execution_count": 24,
      "outputs": [
        {
          "output_type": "stream",
          "name": "stdout",
          "text": [
            "Mean, Median, and Mode of Exam Score Grouped by Year of Study:\n",
            "                    mean  median          mode\n",
            "Year of Study                                 \n",
            "Freshman       78.160000    81.0  [86, 89, 97]\n",
            "Junior         73.064516    69.0          [98]\n",
            "Senior         73.208333    74.5      [60, 75]\n",
            "Sophomore      70.650000    76.0          [51]\n"
          ]
        }
      ]
    },
    {
      "cell_type": "markdown",
      "source": [
        "# 14.Simulate data using Python and calculate its central tendency and dispersion."
      ],
      "metadata": {
        "id": "KA8Rx6EGjqD0"
      }
    },
    {
      "cell_type": "code",
      "metadata": {
        "id": "6b19a019"
      },
      "source": [
        "# Generate a dataset of 1000 random numbers from a normal distribution\n",
        "mean = 50\n",
        "std_dev = 10\n",
        "dataset = np.random.normal(loc=mean, scale=std_dev, size=1000)"
      ],
      "execution_count": 28,
      "outputs": []
    },
    {
      "cell_type": "code",
      "metadata": {
        "colab": {
          "base_uri": "https://localhost:8080/"
        },
        "id": "0a1264de",
        "outputId": "970abdce-d2f5-4742-af0a-49d7912326e6"
      },
      "source": [
        "import statistics\n",
        "\n",
        "# Calculate the mean\n",
        "mean_value = statistics.mean(dataset)\n",
        "\n",
        "# Calculate the median\n",
        "median_value = statistics.median(dataset)\n",
        "\n",
        "# Calculate the mode (handling potential errors if no unique mode exists)\n",
        "try:\n",
        "    mode_value = statistics.mode(dataset)\n",
        "except statistics.StatisticsError:\n",
        "    mode_value = \"No unique mode\"\n",
        "\n",
        "print(f\"Mean of the dataset: {mean_value}\")\n",
        "print(f\"Median of the dataset: {median_value}\")\n",
        "print(f\"Mode of the dataset: {mode_value}\")"
      ],
      "execution_count": 26,
      "outputs": [
        {
          "output_type": "stream",
          "name": "stdout",
          "text": [
            "Mean of the dataset: 50.44991430267527\n",
            "Median of the dataset: 50.467085709604454\n",
            "Mode of the dataset: 50.64280019095463\n"
          ]
        }
      ]
    },
    {
      "cell_type": "code",
      "metadata": {
        "colab": {
          "base_uri": "https://localhost:8080/"
        },
        "id": "e09de7e8",
        "outputId": "5d310b72-071e-4380-bf6f-4be5fa2933b5"
      },
      "source": [
        "# Calculate the sample variance\n",
        "variance = statistics.variance(dataset)\n",
        "\n",
        "# Calculate the sample standard deviation\n",
        "std_dev = statistics.stdev(dataset)\n",
        "\n",
        "# Calculate the range\n",
        "data_range = max(dataset) - min(dataset)\n",
        "\n",
        "print(f\"Sample Variance of the dataset: {variance}\")\n",
        "print(f\"Sample Standard Deviation of the dataset: {std_dev}\")\n",
        "print(f\"Range of the dataset: {data_range}\")"
      ],
      "execution_count": 27,
      "outputs": [
        {
          "output_type": "stream",
          "name": "stdout",
          "text": [
            "Sample Variance of the dataset: 97.96746801430936\n",
            "Sample Standard Deviation of the dataset: 9.897851686821205\n",
            "Range of the dataset: 63.201481485243114\n"
          ]
        }
      ]
    },
    {
      "cell_type": "markdown",
      "source": [
        "# 15.Use NumPy or pandas to summarize a dataset’s descriptive statistics."
      ],
      "metadata": {
        "id": "qB-pJ_txkecZ"
      }
    },
    {
      "cell_type": "code",
      "source": [
        "import numpy as np\n",
        "\n",
        "# Create a sample NumPy array\n",
        "arr = np.array([1, 2, 3, 4, 5, 10, 20, 15, 25, 30])\n",
        "\n",
        "# Calculate individual statistics\n",
        "mean_val = np.mean(arr)\n",
        "median_val = np.median(arr)\n",
        "std_dev = np.std(arr)\n",
        "min_val = np.min(arr)\n",
        "max_val = np.max(arr)\n",
        "percentiles = np.percentile(arr, [25, 50, 75])\n",
        "\n",
        "print(f\"Mean: {mean_val}\")\n",
        "print(f\"Median: {median_val}\")\n",
        "print(f\"Standard Deviation: {std_dev}\")\n",
        "print(f\"Minimum: {min_val}\")\n",
        "print(f\"Maximum: {max_val}\")\n",
        "print(f\"Percentiles (25th, 50th, 75th): {percentiles}\")"
      ],
      "metadata": {
        "colab": {
          "base_uri": "https://localhost:8080/"
        },
        "id": "kk4m4nlTlplQ",
        "outputId": "18e27866-916e-4e20-e340-632a7dc3dc54"
      },
      "execution_count": 31,
      "outputs": [
        {
          "output_type": "stream",
          "name": "stdout",
          "text": [
            "Mean: 11.5\n",
            "Median: 7.5\n",
            "Standard Deviation: 9.912113800799505\n",
            "Minimum: 1\n",
            "Maximum: 30\n",
            "Percentiles (25th, 50th, 75th): [ 3.25  7.5  18.75]\n"
          ]
        }
      ]
    },
    {
      "cell_type": "markdown",
      "source": [
        "# 16. Plot a boxplot to understand the spread and identify outliers."
      ],
      "metadata": {
        "id": "v60qVJQDl7eO"
      }
    },
    {
      "cell_type": "code",
      "metadata": {
        "colab": {
          "base_uri": "https://localhost:8080/",
          "height": 495
        },
        "id": "b4d66723",
        "outputId": "091915f6-f4dc-43b9-d82b-e3aa9afefb83"
      },
      "source": [
        "import matplotlib.pyplot as plt\n",
        "import seaborn as sns\n",
        "import pandas as pd\n",
        "\n",
        "# Redefine the student dataset as it seems to be missing\n",
        "data = {\n",
        "    'Student ID': [101, 102, 103, 104, 105, 106, 107, 108, 109, 110],\n",
        "    'Major': ['Computer Science', 'Psychology', 'Biology', 'Art', 'Computer Science', 'Psychology', 'Biology', 'Art', 'Computer Science', 'Psychology'],\n",
        "    'Year of Study': ['Sophomore', 'Junior', 'Senior', 'Freshman', 'Junior', 'Senior', 'Freshman', 'Sophomore', 'Junior', 'Senior'],\n",
        "    'Exam Score': [85, 78, 92, 65, 88, 75, 90, 70, 82, 79],\n",
        "    'Time Spent Studying (hours)': [10, 7, 15, 5, 12, 8, 14, 6, 11, 9]\n",
        "}\n",
        "df = pd.DataFrame(data)\n",
        "\n",
        "\n",
        "# Create a boxplot for 'Exam Score'\n",
        "plt.figure(figsize=(8, 6))\n",
        "sns.boxplot(y=df['Exam Score'])\n",
        "plt.title('Boxplot of Exam Scores')\n",
        "plt.ylabel('Exam Score')\n",
        "plt.show()\n",
        "\n",
        "# plt.figure(figsize=(8, 6))\n",
        "# sns.boxplot(y=df['Time Spent Studying (hours)'])\n",
        "# plt.title('Boxplot of Time Spent Studying (hours)')\n",
        "# plt.ylabel('Time Spent Studying (hours)')\n",
        "# plt.show()"
      ],
      "execution_count": 33,
      "outputs": [
        {
          "output_type": "display_data",
          "data": {
            "text/plain": [
              "<Figure size 800x600 with 1 Axes>"
            ],
            "image/png": "[encoded data removed]"
          },
          "metadata": {}
        }
      ]
    },
    {
      "cell_type": "markdown",
      "source": [
        "# 17.Calculate the interquartile range (IQR) of a dataset."
      ],
      "metadata": {
        "id": "IFhkJ2UqmtIG"
      }
    },
    {
      "cell_type": "code",
      "metadata": {
        "colab": {
          "base_uri": "https://localhost:8080/"
        },
        "id": "ed73db6e",
        "outputId": "0d76dac1-37d1-48d7-e2f6-ad9a48a5e81d"
      },
      "source": [
        "# Calculate the IQR for the 'Exam Score' column\n",
        "Q1 = df['Exam Score'].quantile(0.25)\n",
        "Q3 = df['Exam Score'].quantile(0.75)\n",
        "IQR = Q3 - Q1\n",
        "\n",
        "print(f\"The first quartile (Q1) of Exam Score is: {Q1}\")\n",
        "print(f\"The third quartile (Q3) of Exam Score is: {Q3}\")\n",
        "print(f\"The Interquartile Range (IQR) of Exam Score is: {IQR}\")\n",
        "\n",
        "# You can also calculate IQR using numpy\n",
        "# iqr_numpy = np.percentile(df['Exam Score'], 75) - np.percentile(df['Exam Score'], 25)\n",
        "# print(f\"\\nThe Interquartile Range (IQR) of Exam Score (using numpy) is: {iqr_numpy}\")"
      ],
      "execution_count": 34,
      "outputs": [
        {
          "output_type": "stream",
          "name": "stdout",
          "text": [
            "The first quartile (Q1) of Exam Score is: 75.75\n",
            "The third quartile (Q3) of Exam Score is: 87.25\n",
            "The Interquartile Range (IQR) of Exam Score is: 11.5\n"
          ]
        }
      ]
    },
    {
      "cell_type": "markdown",
      "source": [
        "# 18.Implement Z-score normalization and explain its significance."
      ],
      "metadata": {
        "id": "G0BWk9d-nDmS"
      }
    },
    {
      "cell_type": "markdown",
      "metadata": {
        "id": "728a2982"
      },
      "source": [
        "### What is Z-score Normalization?\n",
        "\n",
        "Z-score normalization (also known as standardization) is a data scaling technique where values are rescaled so that the mean of the observed data is 0 and the standard deviation is 1.\n",
        "\n",
        "The formula for calculating the Z-score for a data point \\(x\\) is:\n",
        "\n",
        "\\[ Z = \\frac{x - \\mu}{\\sigma} \\]\n",
        "\n",
        "Where:\n",
        "- \\(x\\) is the individual data point\n",
        "- \\(\\mu\\) is the mean of the dataset\n",
        "- \\(\\sigma\\) is the standard deviation of the dataset"
      ]
    },
    {
      "cell_type": "markdown",
      "source": [
        "# 19.Compare two datasets using their standard deviations."
      ],
      "metadata": {
        "id": "w1XkAGWTpwnP"
      }
    },
    {
      "cell_type": "code",
      "metadata": {
        "colab": {
          "base_uri": "https://localhost:8080/"
        },
        "id": "5659b726",
        "outputId": "e9b597c1-5e25-4583-fc3d-e09872906c5b"
      },
      "source": [
        "import numpy as np\n",
        "\n",
        "# Calculate the standard deviation for 'Exam Score'\n",
        "std_dev_exam = np.std(df['Exam Score'])\n",
        "\n",
        "# Calculate the standard deviation for 'Time Spent Studying (hours)'\n",
        "std_dev_study = np.std(df['Time Spent Studying (hours)'])\n",
        "\n",
        "print(f\"Standard Deviation of Exam Scores: {std_dev_exam:.2f}\")\n",
        "print(f\"Standard Deviation of Time Spent Studying (hours): {std_dev_study:.2f}\")"
      ],
      "execution_count": 36,
      "outputs": [
        {
          "output_type": "stream",
          "name": "stdout",
          "text": [
            "Standard Deviation of Exam Scores: 8.31\n",
            "Standard Deviation of Time Spent Studying (hours): 3.16\n"
          ]
        }
      ]
    },
    {
      "cell_type": "markdown",
      "source": [
        "# 20.Write a Python program to visualize covariance using a heatmap."
      ],
      "metadata": {
        "id": "OVhdR-uIqKNH"
      }
    },
    {
      "cell_type": "code",
      "metadata": {
        "colab": {
          "base_uri": "https://localhost:8080/",
          "height": 670
        },
        "id": "54717788",
        "outputId": "49080064-7f2b-45a4-f1e8-6d8b16c09e4d"
      },
      "source": [
        "import matplotlib.pyplot as plt\n",
        "import seaborn as sns\n",
        "\n",
        "# Calculate the covariance matrix for the numerical columns\n",
        "covariance_matrix = df[['Exam Score', 'Time Spent Studying (hours)']].cov()\n",
        "\n",
        "print(\"Covariance Matrix:\")\n",
        "display(covariance_matrix)\n",
        "\n",
        "# Create a heatmap\n",
        "plt.figure(figsize=(8, 6))\n",
        "sns.heatmap(covariance_matrix, annot=True, cmap='coolwarm', fmt=\".2f\")\n",
        "plt.title('Covariance Heatmap')\n",
        "plt.show()"
      ],
      "execution_count": 37,
      "outputs": [
        {
          "output_type": "stream",
          "name": "stdout",
          "text": [
            "Covariance Matrix:\n"
          ]
        },
        {
          "output_type": "display_data",
          "data": {
            "text/plain": [
              "                             Exam Score  Time Spent Studying (hours)\n",
              "Exam Score                    76.711111                    27.911111\n",
              "Time Spent Studying (hours)   27.911111                    11.122222"
            ],
            "text/html": [
              "\n",
              "  <div id=\"df-a83e00bc-7b73-4697-96b7-308d5634f8ec\" class=\"colab-df-container\">\n",
              "    <div>\n",
              "<style scoped>\n",
              "    .dataframe tbody tr th:only-of-type {\n",
              "        vertical-align: middle;\n",
              "    }\n",
              "\n",
              "    .dataframe tbody tr th {\n",
              "        vertical-align: top;\n",
              "    }\n",
              "\n",
              "    .dataframe thead th {\n",
              "        text-align: right;\n",
              "    }\n",
              "</style>\n",
              "<table border=\"1\" class=\"dataframe\">\n",
              "  <thead>\n",
              "    <tr style=\"text-align: right;\">\n",
              "      <th></th>\n",
              "      <th>Exam Score</th>\n",
              "      <th>Time Spent Studying (hours)</th>\n",
              "    </tr>\n",
              "  </thead>\n",
              "  <tbody>\n",
              "    <tr>\n",
              "      <th>Exam Score</th>\n",
              "      <td>76.711111</td>\n",
              "      <td>27.911111</td>\n",
              "    </tr>\n",
              "    <tr>\n",
              "      <th>Time Spent Studying (hours)</th>\n",
              "      <td>27.911111</td>\n",
              "      <td>11.122222</td>\n",
              "    </tr>\n",
              "  </tbody>\n",
              "</table>\n",
              "</div>\n",
              "    <div class=\"colab-df-buttons\">\n",
              "\n",
              "  <div class=\"colab-df-container\">\n",
              "    <button class=\"colab-df-convert\" onclick=\"convertToInteractive('df-a83e00bc-7b73-4697-96b7-308d5634f8ec')\"\n",
              "            title=\"Convert this dataframe to an interactive table.\"\n",
              "            style=\"display:none;\">\n",
              "\n",
              "  <svg xmlns=\"http://www.w3.org/2000/svg\" height=\"24px\" viewBox=\"0 -960 960 960\">\n",
              "    <path d=\"M120-120v-720h720v720H120Zm60-500h600v-160H180v160Zm220 220h160v-160H400v160Zm0 220h160v-160H400v160ZM180-400h160v-160H180v160Zm440 0h160v-160H620v160ZM180-180h160v-160H180v160Zm440 0h160v-160H620v160Z\"/>\n",
              "  </svg>\n",
              "    </button>\n",
              "\n",
              "  <style>\n",
              "    .colab-df-container {\n",
              "      display:flex;\n",
              "      gap: 12px;\n",
              "    }\n",
              "\n",
              "    .colab-df-convert {\n",
              "      background-color: #E8F0FE;\n",
              "      border: none;\n",
              "      border-radius: 50%;\n",
              "      cursor: pointer;\n",
              "      display: none;\n",
              "      fill: #1967D2;\n",
              "      height: 32px;\n",
              "      padding: 0 0 0 0;\n",
              "      width: 32px;\n",
              "    }\n",
              "\n",
              "    .colab-df-convert:hover {\n",
              "      background-color: #E2EBFA;\n",
              "      box-shadow: 0px 1px 2px rgba(60, 64, 67, 0.3), 0px 1px 3px 1px rgba(60, 64, 67, 0.15);\n",
              "      fill: #174EA6;\n",
              "    }\n",
              "\n",
              "    .colab-df-buttons div {\n",
              "      margin-bottom: 4px;\n",
              "    }\n",
              "\n",
              "    [theme=dark] .colab-df-convert {\n",
              "      background-color: #3B4455;\n",
              "      fill: #D2E3FC;\n",
              "    }\n",
              "\n",
              "    [theme=dark] .colab-df-convert:hover {\n",
              "      background-color: #434B5C;\n",
              "      box-shadow: 0px 1px 3px 1px rgba(0, 0, 0, 0.15);\n",
              "      filter: drop-shadow(0px 1px 2px rgba(0, 0, 0, 0.3));\n",
              "      fill: #FFFFFF;\n",
              "    }\n",
              "  </style>\n",
              "\n",
              "    <script>\n",
              "      const buttonEl =\n",
              "        document.querySelector('#df-a83e00bc-7b73-4697-96b7-308d5634f8ec button.colab-df-convert');\n",
              "      buttonEl.style.display =\n",
              "        google.colab.kernel.accessAllowed ? 'block' : 'none';\n",
              "\n",
              "      async function convertToInteractive(key) {\n",
              "        const element = document.querySelector('#df-a83e00bc-7b73-4697-96b7-308d5634f8ec');\n",
              "        const dataTable =\n",
              "          await google.colab.kernel.invokeFunction('convertToInteractive',\n",
              "                                                    [key], {});\n",
              "        if (!dataTable) return;\n",
              "\n",
              "        const docLinkHtml = 'Like what you see? Visit the ' +\n",
              "          '<a target=\"_blank\" href=https://colab.research.google.com/notebooks/data_table.ipynb>data table notebook</a>'\n",
              "          + ' to learn more about interactive tables.';\n",
              "        element.innerHTML = '';\n",
              "        dataTable['output_type'] = 'display_data';\n",
              "        await google.colab.output.renderOutput(dataTable, element);\n",
              "        const docLink = document.createElement('div');\n",
              "        docLink.innerHTML = docLinkHtml;\n",
              "        element.appendChild(docLink);\n",
              "      }\n",
              "    </script>\n",
              "  </div>\n",
              "\n",
              "\n",
              "    <div id=\"df-82eeb886-ab46-42b1-af65-015c8fc40ac1\">\n",
              "      <button class=\"colab-df-quickchart\" onclick=\"quickchart('df-82eeb886-ab46-42b1-af65-015c8fc40ac1')\"\n",
              "                title=\"Suggest charts\"\n",
              "                style=\"display:none;\">\n",
              "\n",
              "<svg xmlns=\"http://www.w3.org/2000/svg\" height=\"24px\"viewBox=\"0 0 24 24\"\n",
              "     width=\"24px\">\n",
              "    <g>\n",
              "        <path d=\"M19 3H5c-1.1 0-2 .9-2 2v14c0 1.1.9 2 2 2h14c1.1 0 2-.9 2-2V5c0-1.1-.9-2-2-2zM9 17H7v-7h2v7zm4 0h-2V7h2v10zm4 0h-2v-4h2v4z\"/>\n",
              "    </g>\n",
              "</svg>\n",
              "      </button>\n",
              "\n",
              "<style>\n",
              "  .colab-df-quickchart {\n",
              "      --bg-color: #E8F0FE;\n",
              "      --fill-color: #1967D2;\n",
              "      --hover-bg-color: #E2EBFA;\n",
              "      --hover-fill-color: #174EA6;\n",
              "      --disabled-fill-color: #AAA;\n",
              "      --disabled-bg-color: #DDD;\n",
              "  }\n",
              "\n",
              "  [theme=dark] .colab-df-quickchart {\n",
              "      --bg-color: #3B4455;\n",
              "      --fill-color: #D2E3FC;\n",
              "      --hover-bg-color: #434B5C;\n",
              "      --hover-fill-color: #FFFFFF;\n",
              "      --disabled-bg-color: #3B4455;\n",
              "      --disabled-fill-color: #666;\n",
              "  }\n",
              "\n",
              "  .colab-df-quickchart {\n",
              "    background-color: var(--bg-color);\n",
              "    border: none;\n",
              "    border-radius: 50%;\n",
              "    cursor: pointer;\n",
              "    display: none;\n",
              "    fill: var(--fill-color);\n",
              "    height: 32px;\n",
              "    padding: 0;\n",
              "    width: 32px;\n",
              "  }\n",
              "\n",
              "  .colab-df-quickchart:hover {\n",
              "    background-color: var(--hover-bg-color);\n",
              "    box-shadow: 0 1px 2px rgba(60, 64, 67, 0.3), 0 1px 3px 1px rgba(60, 64, 67, 0.15);\n",
              "    fill: var(--button-hover-fill-color);\n",
              "  }\n",
              "\n",
              "  .colab-df-quickchart-complete:disabled,\n",
              "  .colab-df-quickchart-complete:disabled:hover {\n",
              "    background-color: var(--disabled-bg-color);\n",
              "    fill: var(--disabled-fill-color);\n",
              "    box-shadow: none;\n",
              "  }\n",
              "\n",
              "  .colab-df-spinner {\n",
              "    border: 2px solid var(--fill-color);\n",
              "    border-color: transparent;\n",
              "    border-bottom-color: var(--fill-color);\n",
              "    animation:\n",
              "      spin 1s steps(1) infinite;\n",
              "  }\n",
              "\n",
              "  @keyframes spin {\n",
              "    0% {\n",
              "      border-color: transparent;\n",
              "      border-bottom-color: var(--fill-color);\n",
              "      border-left-color: var(--fill-color);\n",
              "    }\n",
              "    20% {\n",
              "      border-color: transparent;\n",
              "      border-left-color: var(--fill-color);\n",
              "      border-top-color: var(--fill-color);\n",
              "    }\n",
              "    30% {\n",
              "      border-color: transparent;\n",
              "      border-left-color: var(--fill-color);\n",
              "      border-top-color: var(--fill-color);\n",
              "      border-right-color: var(--fill-color);\n",
              "    }\n",
              "    40% {\n",
              "      border-color: transparent;\n",
              "      border-right-color: var(--fill-color);\n",
              "      border-top-color: var(--fill-color);\n",
              "    }\n",
              "    60% {\n",
              "      border-color: transparent;\n",
              "      border-right-color: var(--fill-color);\n",
              "    }\n",
              "    80% {\n",
              "      border-color: transparent;\n",
              "      border-right-color: var(--fill-color);\n",
              "      border-bottom-color: var(--fill-color);\n",
              "    }\n",
              "    90% {\n",
              "      border-color: transparent;\n",
              "      border-bottom-color: var(--fill-color);\n",
              "    }\n",
              "  }\n",
              "</style>\n",
              "\n",
              "      <script>\n",
              "        async function quickchart(key) {\n",
              "          const quickchartButtonEl =\n",
              "            document.querySelector('#' + key + ' button');\n",
              "          quickchartButtonEl.disabled = true;  // To prevent multiple clicks.\n",
              "          quickchartButtonEl.classList.add('colab-df-spinner');\n",
              "          try {\n",
              "            const charts = await google.colab.kernel.invokeFunction(\n",
              "                'suggestCharts', [key], {});\n",
              "          } catch (error) {\n",
              "            console.error('Error during call to suggestCharts:', error);\n",
              "          }\n",
              "          quickchartButtonEl.classList.remove('colab-df-spinner');\n",
              "          quickchartButtonEl.classList.add('colab-df-quickchart-complete');\n",
              "        }\n",
              "        (() => {\n",
              "          let quickchartButtonEl =\n",
              "            document.querySelector('#df-82eeb886-ab46-42b1-af65-015c8fc40ac1 button');\n",
              "          quickchartButtonEl.style.display =\n",
              "            google.colab.kernel.accessAllowed ? 'block' : 'none';\n",
              "        })();\n",
              "      </script>\n",
              "    </div>\n",
              "\n",
              "  <div id=\"id_87e48dad-3a55-4689-a70d-096cc22850c0\">\n",
              "    <style>\n",
              "      .colab-df-generate {\n",
              "        background-color: #E8F0FE;\n",
              "        border: none;\n",
              "        border-radius: 50%;\n",
              "        cursor: pointer;\n",
              "        display: none;\n",
              "        fill: #1967D2;\n",
              "        height: 32px;\n",
              "        padding: 0 0 0 0;\n",
              "        width: 32px;\n",
              "      }\n",
              "\n",
              "      .colab-df-generate:hover {\n",
              "        background-color: #E2EBFA;\n",
              "        box-shadow: 0px 1px 2px rgba(60, 64, 67, 0.3), 0px 1px 3px 1px rgba(60, 64, 67, 0.15);\n",
              "        fill: #174EA6;\n",
              "      }\n",
              "\n",
              "      [theme=dark] .colab-df-generate {\n",
              "        background-color: #3B4455;\n",
              "        fill: #D2E3FC;\n",
              "      }\n",
              "\n",
              "      [theme=dark] .colab-df-generate:hover {\n",
              "        background-color: #434B5C;\n",
              "        box-shadow: 0px 1px 3px 1px rgba(0, 0, 0, 0.15);\n",
              "        filter: drop-shadow(0px 1px 2px rgba(0, 0, 0, 0.3));\n",
              "        fill: #FFFFFF;\n",
              "      }\n",
              "    </style>\n",
              "    <button class=\"colab-df-generate\" onclick=\"generateWithVariable('covariance_matrix')\"\n",
              "            title=\"Generate code using this dataframe.\"\n",
              "            style=\"display:none;\">\n",
              "\n",
              "  <svg xmlns=\"http://www.w3.org/2000/svg\" height=\"24px\"viewBox=\"0 0 24 24\"\n",
              "       width=\"24px\">\n",
              "    <path d=\"M7,19H8.4L18.45,9,17,7.55,7,17.6ZM5,21V16.75L18.45,3.32a2,2,0,0,1,2.83,0l1.4,1.43a1.91,1.91,0,0,1,.58,1.4,1.91,1.91,0,0,1-.58,1.4L9.25,21ZM18.45,9,17,7.55Zm-12,3A5.31,5.31,0,0,0,4.9,8.1,5.31,5.31,0,0,0,1,6.5,5.31,5.31,0,0,0,4.9,4.9,5.31,5.31,0,0,0,6.5,1,5.31,5.31,0,0,0,8.1,4.9,5.31,5.31,0,0,0,12,6.5,5.46,5.46,0,0,0,6.5,12Z\"/>\n",
              "  </svg>\n",
              "    </button>\n",
              "    <script>\n",
              "      (() => {\n",
              "      const buttonEl =\n",
              "        document.querySelector('#id_87e48dad-3a55-4689-a70d-096cc22850c0 button.colab-df-generate');\n",
              "      buttonEl.style.display =\n",
              "        google.colab.kernel.accessAllowed ? 'block' : 'none';\n",
              "\n",
              "      buttonEl.onclick = () => {\n",
              "        google.colab.notebook.generateWithVariable('covariance_matrix');\n",
              "      }\n",
              "      })();\n",
              "    </script>\n",
              "  </div>\n",
              "\n",
              "    </div>\n",
              "  </div>\n"
            ],
            "application/vnd.google.colaboratory.intrinsic+json": {
              "type": "dataframe",
              "variable_name": "covariance_matrix",
              "summary": "{\n  \"name\": \"covariance_matrix\",\n  \"rows\": 2,\n  \"fields\": [\n    {\n      \"column\": \"Exam Score\",\n      \"properties\": {\n        \"dtype\": \"number\",\n        \"std\": 34.50681092190352,\n        \"min\": 27.911111111111104,\n        \"max\": 76.71111111111111,\n        \"num_unique_values\": 2,\n        \"samples\": [\n          27.911111111111104,\n          76.71111111111111\n        ],\n        \"semantic_type\": \"\",\n        \"description\": \"\"\n      }\n    },\n    {\n      \"column\": \"Time Spent Studying (hours)\",\n      \"properties\": {\n        \"dtype\": \"number\",\n        \"std\": 11.871537181920809,\n        \"min\": 11.122222222222222,\n        \"max\": 27.911111111111104,\n        \"num_unique_values\": 2,\n        \"samples\": [\n          11.122222222222222,\n          27.911111111111104\n        ],\n        \"semantic_type\": \"\",\n        \"description\": \"\"\n      }\n    }\n  ]\n}"
            }
          },
          "metadata": {}
        },
        {
          "output_type": "display_data",
          "data": {
            "text/plain": [
              "<Figure size 800x600 with 2 Axes>"
            ],
            "image/png": "[encoded data removed]"
          },
          "metadata": {}
        }
      ]
    },
    {
      "cell_type": "markdown",
      "source": [
        "# 21.Use seaborn to create a correlation matrix for a dataset."
      ],
      "metadata": {
        "id": "WY3PHPrdqgm3"
      }
    },
    {
      "cell_type": "code",
      "metadata": {
        "colab": {
          "base_uri": "https://localhost:8080/",
          "height": 670
        },
        "id": "fa7347b3",
        "outputId": "36055ede-227f-4d37-ebc3-8a659828af27"
      },
      "source": [
        "import matplotlib.pyplot as plt\n",
        "import seaborn as sns\n",
        "\n",
        "# Calculate the correlation matrix for the numerical columns\n",
        "correlation_matrix = df[['Exam Score', 'Time Spent Studying (hours)']].corr()\n",
        "\n",
        "print(\"Correlation Matrix:\")\n",
        "display(correlation_matrix)\n",
        "\n",
        "# Create a heatmap for the correlation matrix\n",
        "plt.figure(figsize=(8, 6))\n",
        "sns.heatmap(correlation_matrix, annot=True, cmap='coolwarm', fmt=\".2f\", vmin=-1, vmax=1)\n",
        "plt.title('Correlation Matrix Heatmap')\n",
        "plt.show()"
      ],
      "execution_count": 38,
      "outputs": [
        {
          "output_type": "stream",
          "name": "stdout",
          "text": [
            "Correlation Matrix:\n"
          ]
        },
        {
          "output_type": "display_data",
          "data": {
            "text/plain": [
              "                             Exam Score  Time Spent Studying (hours)\n",
              "Exam Score                     1.000000                     0.955547\n",
              "Time Spent Studying (hours)    0.955547                     1.000000"
            ],
            "text/html": [
              "\n",
              "  <div id=\"df-b21c283f-99b6-4ec8-854e-a1713f308ff6\" class=\"colab-df-container\">\n",
              "    <div>\n",
              "<style scoped>\n",
              "    .dataframe tbody tr th:only-of-type {\n",
              "        vertical-align: middle;\n",
              "    }\n",
              "\n",
              "    .dataframe tbody tr th {\n",
              "        vertical-align: top;\n",
              "    }\n",
              "\n",
              "    .dataframe thead th {\n",
              "        text-align: right;\n",
              "    }\n",
              "</style>\n",
              "<table border=\"1\" class=\"dataframe\">\n",
              "  <thead>\n",
              "    <tr style=\"text-align: right;\">\n",
              "      <th></th>\n",
              "      <th>Exam Score</th>\n",
              "      <th>Time Spent Studying (hours)</th>\n",
              "    </tr>\n",
              "  </thead>\n",
              "  <tbody>\n",
              "    <tr>\n",
              "      <th>Exam Score</th>\n",
              "      <td>1.000000</td>\n",
              "      <td>0.955547</td>\n",
              "    </tr>\n",
              "    <tr>\n",
              "      <th>Time Spent Studying (hours)</th>\n",
              "      <td>0.955547</td>\n",
              "      <td>1.000000</td>\n",
              "    </tr>\n",
              "  </tbody>\n",
              "</table>\n",
              "</div>\n",
              "    <div class=\"colab-df-buttons\">\n",
              "\n",
              "  <div class=\"colab-df-container\">\n",
              "    <button class=\"colab-df-convert\" onclick=\"convertToInteractive('df-b21c283f-99b6-4ec8-854e-a1713f308ff6')\"\n",
              "            title=\"Convert this dataframe to an interactive table.\"\n",
              "            style=\"display:none;\">\n",
              "\n",
              "  <svg xmlns=\"http://www.w3.org/2000/svg\" height=\"24px\" viewBox=\"0 -960 960 960\">\n",
              "    <path d=\"M120-120v-720h720v720H120Zm60-500h600v-160H180v160Zm220 220h160v-160H400v160Zm0 220h160v-160H400v160ZM180-400h160v-160H180v160Zm440 0h160v-160H620v160ZM180-180h160v-160H180v160Zm440 0h160v-160H620v160Z\"/>\n",
              "  </svg>\n",
              "    </button>\n",
              "\n",
              "  <style>\n",
              "    .colab-df-container {\n",
              "      display:flex;\n",
              "      gap: 12px;\n",
              "    }\n",
              "\n",
              "    .colab-df-convert {\n",
              "      background-color: #E8F0FE;\n",
              "      border: none;\n",
              "      border-radius: 50%;\n",
              "      cursor: pointer;\n",
              "      display: none;\n",
              "      fill: #1967D2;\n",
              "      height: 32px;\n",
              "      padding: 0 0 0 0;\n",
              "      width: 32px;\n",
              "    }\n",
              "\n",
              "    .colab-df-convert:hover {\n",
              "      background-color: #E2EBFA;\n",
              "      box-shadow: 0px 1px 2px rgba(60, 64, 67, 0.3), 0px 1px 3px 1px rgba(60, 64, 67, 0.15);\n",
              "      fill: #174EA6;\n",
              "    }\n",
              "\n",
              "    .colab-df-buttons div {\n",
              "      margin-bottom: 4px;\n",
              "    }\n",
              "\n",
              "    [theme=dark] .colab-df-convert {\n",
              "      background-color: #3B4455;\n",
              "      fill: #D2E3FC;\n",
              "    }\n",
              "\n",
              "    [theme=dark] .colab-df-convert:hover {\n",
              "      background-color: #434B5C;\n",
              "      box-shadow: 0px 1px 3px 1px rgba(0, 0, 0, 0.15);\n",
              "      filter: drop-shadow(0px 1px 2px rgba(0, 0, 0, 0.3));\n",
              "      fill: #FFFFFF;\n",
              "    }\n",
              "  </style>\n",
              "\n",
              "    <script>\n",
              "      const buttonEl =\n",
              "        document.querySelector('#df-b21c283f-99b6-4ec8-854e-a1713f308ff6 button.colab-df-convert');\n",
              "      buttonEl.style.display =\n",
              "        google.colab.kernel.accessAllowed ? 'block' : 'none';\n",
              "\n",
              "      async function convertToInteractive(key) {\n",
              "        const element = document.querySelector('#df-b21c283f-99b6-4ec8-854e-a1713f308ff6');\n",
              "        const dataTable =\n",
              "          await google.colab.kernel.invokeFunction('convertToInteractive',\n",
              "                                                    [key], {});\n",
              "        if (!dataTable) return;\n",
              "\n",
              "        const docLinkHtml = 'Like what you see? Visit the ' +\n",
              "          '<a target=\"_blank\" href=https://colab.research.google.com/notebooks/data_table.ipynb>data table notebook</a>'\n",
              "          + ' to learn more about interactive tables.';\n",
              "        element.innerHTML = '';\n",
              "        dataTable['output_type'] = 'display_data';\n",
              "        await google.colab.output.renderOutput(dataTable, element);\n",
              "        const docLink = document.createElement('div');\n",
              "        docLink.innerHTML = docLinkHtml;\n",
              "        element.appendChild(docLink);\n",
              "      }\n",
              "    </script>\n",
              "  </div>\n",
              "\n",
              "\n",
              "    <div id=\"df-70a456a7-dbef-4374-93c6-4b675bf1123b\">\n",
              "      <button class=\"colab-df-quickchart\" onclick=\"quickchart('df-70a456a7-dbef-4374-93c6-4b675bf1123b')\"\n",
              "                title=\"Suggest charts\"\n",
              "                style=\"display:none;\">\n",
              "\n",
              "<svg xmlns=\"http://www.w3.org/2000/svg\" height=\"24px\"viewBox=\"0 0 24 24\"\n",
              "     width=\"24px\">\n",
              "    <g>\n",
              "        <path d=\"M19 3H5c-1.1 0-2 .9-2 2v14c0 1.1.9 2 2 2h14c1.1 0 2-.9 2-2V5c0-1.1-.9-2-2-2zM9 17H7v-7h2v7zm4 0h-2V7h2v10zm4 0h-2v-4h2v4z\"/>\n",
              "    </g>\n",
              "</svg>\n",
              "      </button>\n",
              "\n",
              "<style>\n",
              "  .colab-df-quickchart {\n",
              "      --bg-color: #E8F0FE;\n",
              "      --fill-color: #1967D2;\n",
              "      --hover-bg-color: #E2EBFA;\n",
              "      --hover-fill-color: #174EA6;\n",
              "      --disabled-fill-color: #AAA;\n",
              "      --disabled-bg-color: #DDD;\n",
              "  }\n",
              "\n",
              "  [theme=dark] .colab-df-quickchart {\n",
              "      --bg-color: #3B4455;\n",
              "      --fill-color: #D2E3FC;\n",
              "      --hover-bg-color: #434B5C;\n",
              "      --hover-fill-color: #FFFFFF;\n",
              "      --disabled-bg-color: #3B4455;\n",
              "      --disabled-fill-color: #666;\n",
              "  }\n",
              "\n",
              "  .colab-df-quickchart {\n",
              "    background-color: var(--bg-color);\n",
              "    border: none;\n",
              "    border-radius: 50%;\n",
              "    cursor: pointer;\n",
              "    display: none;\n",
              "    fill: var(--fill-color);\n",
              "    height: 32px;\n",
              "    padding: 0;\n",
              "    width: 32px;\n",
              "  }\n",
              "\n",
              "  .colab-df-quickchart:hover {\n",
              "    background-color: var(--hover-bg-color);\n",
              "    box-shadow: 0 1px 2px rgba(60, 64, 67, 0.3), 0 1px 3px 1px rgba(60, 64, 67, 0.15);\n",
              "    fill: var(--button-hover-fill-color);\n",
              "  }\n",
              "\n",
              "  .colab-df-quickchart-complete:disabled,\n",
              "  .colab-df-quickchart-complete:disabled:hover {\n",
              "    background-color: var(--disabled-bg-color);\n",
              "    fill: var(--disabled-fill-color);\n",
              "    box-shadow: none;\n",
              "  }\n",
              "\n",
              "  .colab-df-spinner {\n",
              "    border: 2px solid var(--fill-color);\n",
              "    border-color: transparent;\n",
              "    border-bottom-color: var(--fill-color);\n",
              "    animation:\n",
              "      spin 1s steps(1) infinite;\n",
              "  }\n",
              "\n",
              "  @keyframes spin {\n",
              "    0% {\n",
              "      border-color: transparent;\n",
              "      border-bottom-color: var(--fill-color);\n",
              "      border-left-color: var(--fill-color);\n",
              "    }\n",
              "    20% {\n",
              "      border-color: transparent;\n",
              "      border-left-color: var(--fill-color);\n",
              "      border-top-color: var(--fill-color);\n",
              "    }\n",
              "    30% {\n",
              "      border-color: transparent;\n",
              "      border-left-color: var(--fill-color);\n",
              "      border-top-color: var(--fill-color);\n",
              "      border-right-color: var(--fill-color);\n",
              "    }\n",
              "    40% {\n",
              "      border-color: transparent;\n",
              "      border-right-color: var(--fill-color);\n",
              "      border-top-color: var(--fill-color);\n",
              "    }\n",
              "    60% {\n",
              "      border-color: transparent;\n",
              "      border-right-color: var(--fill-color);\n",
              "    }\n",
              "    80% {\n",
              "      border-color: transparent;\n",
              "      border-right-color: var(--fill-color);\n",
              "      border-bottom-color: var(--fill-color);\n",
              "    }\n",
              "    90% {\n",
              "      border-color: transparent;\n",
              "      border-bottom-color: var(--fill-color);\n",
              "    }\n",
              "  }\n",
              "</style>\n",
              "\n",
              "      <script>\n",
              "        async function quickchart(key) {\n",
              "          const quickchartButtonEl =\n",
              "            document.querySelector('#' + key + ' button');\n",
              "          quickchartButtonEl.disabled = true;  // To prevent multiple clicks.\n",
              "          quickchartButtonEl.classList.add('colab-df-spinner');\n",
              "          try {\n",
              "            const charts = await google.colab.kernel.invokeFunction(\n",
              "                'suggestCharts', [key], {});\n",
              "          } catch (error) {\n",
              "            console.error('Error during call to suggestCharts:', error);\n",
              "          }\n",
              "          quickchartButtonEl.classList.remove('colab-df-spinner');\n",
              "          quickchartButtonEl.classList.add('colab-df-quickchart-complete');\n",
              "        }\n",
              "        (() => {\n",
              "          let quickchartButtonEl =\n",
              "            document.querySelector('#df-70a456a7-dbef-4374-93c6-4b675bf1123b button');\n",
              "          quickchartButtonEl.style.display =\n",
              "            google.colab.kernel.accessAllowed ? 'block' : 'none';\n",
              "        })();\n",
              "      </script>\n",
              "    </div>\n",
              "\n",
              "  <div id=\"id_d14008bf-6b7c-48d9-a6b3-654e230d2208\">\n",
              "    <style>\n",
              "      .colab-df-generate {\n",
              "        background-color: #E8F0FE;\n",
              "        border: none;\n",
              "        border-radius: 50%;\n",
              "        cursor: pointer;\n",
              "        display: none;\n",
              "        fill: #1967D2;\n",
              "        height: 32px;\n",
              "        padding: 0 0 0 0;\n",
              "        width: 32px;\n",
              "      }\n",
              "\n",
              "      .colab-df-generate:hover {\n",
              "        background-color: #E2EBFA;\n",
              "        box-shadow: 0px 1px 2px rgba(60, 64, 67, 0.3), 0px 1px 3px 1px rgba(60, 64, 67, 0.15);\n",
              "        fill: #174EA6;\n",
              "      }\n",
              "\n",
              "      [theme=dark] .colab-df-generate {\n",
              "        background-color: #3B4455;\n",
              "        fill: #D2E3FC;\n",
              "      }\n",
              "\n",
              "      [theme=dark] .colab-df-generate:hover {\n",
              "        background-color: #434B5C;\n",
              "        box-shadow: 0px 1px 3px 1px rgba(0, 0, 0, 0.15);\n",
              "        filter: drop-shadow(0px 1px 2px rgba(0, 0, 0, 0.3));\n",
              "        fill: #FFFFFF;\n",
              "      }\n",
              "    </style>\n",
              "    <button class=\"colab-df-generate\" onclick=\"generateWithVariable('correlation_matrix')\"\n",
              "            title=\"Generate code using this dataframe.\"\n",
              "            style=\"display:none;\">\n",
              "\n",
              "  <svg xmlns=\"http://www.w3.org/2000/svg\" height=\"24px\"viewBox=\"0 0 24 24\"\n",
              "       width=\"24px\">\n",
              "    <path d=\"M7,19H8.4L18.45,9,17,7.55,7,17.6ZM5,21V16.75L18.45,3.32a2,2,0,0,1,2.83,0l1.4,1.43a1.91,1.91,0,0,1,.58,1.4,1.91,1.91,0,0,1-.58,1.4L9.25,21ZM18.45,9,17,7.55Zm-12,3A5.31,5.31,0,0,0,4.9,8.1,5.31,5.31,0,0,0,1,6.5,5.31,5.31,0,0,0,4.9,4.9,5.31,5.31,0,0,0,6.5,1,5.31,5.31,0,0,0,8.1,4.9,5.31,5.31,0,0,0,12,6.5,5.46,5.46,0,0,0,6.5,12Z\"/>\n",
              "  </svg>\n",
              "    </button>\n",
              "    <script>\n",
              "      (() => {\n",
              "      const buttonEl =\n",
              "        document.querySelector('#id_d14008bf-6b7c-48d9-a6b3-654e230d2208 button.colab-df-generate');\n",
              "      buttonEl.style.display =\n",
              "        google.colab.kernel.accessAllowed ? 'block' : 'none';\n",
              "\n",
              "      buttonEl.onclick = () => {\n",
              "        google.colab.notebook.generateWithVariable('correlation_matrix');\n",
              "      }\n",
              "      })();\n",
              "    </script>\n",
              "  </div>\n",
              "\n",
              "    </div>\n",
              "  </div>\n"
            ],
            "application/vnd.google.colaboratory.intrinsic+json": {
              "type": "dataframe",
              "variable_name": "correlation_matrix",
              "summary": "{\n  \"name\": \"correlation_matrix\",\n  \"rows\": 2,\n  \"fields\": [\n    {\n      \"column\": \"Exam Score\",\n      \"properties\": {\n        \"dtype\": \"number\",\n        \"std\": 0.03143278182980716,\n        \"min\": 0.9555473336331721,\n        \"max\": 1.0,\n        \"num_unique_values\": 2,\n        \"samples\": [\n          0.9555473336331721,\n          1.0\n        ],\n        \"semantic_type\": \"\",\n        \"description\": \"\"\n      }\n    },\n    {\n      \"column\": \"Time Spent Studying (hours)\",\n      \"properties\": {\n        \"dtype\": \"number\",\n        \"std\": 0.03143278182980716,\n        \"min\": 0.9555473336331721,\n        \"max\": 1.0,\n        \"num_unique_values\": 2,\n        \"samples\": [\n          1.0,\n          0.9555473336331721\n        ],\n        \"semantic_type\": \"\",\n        \"description\": \"\"\n      }\n    }\n  ]\n}"
            }
          },
          "metadata": {}
        },
        {
          "output_type": "display_data",
          "data": {
            "text/plain": [
              "<Figure size 800x600 with 2 Axes>"
            ],
            "image/png": "[encoded data removed]"
          },
          "metadata": {}
        }
      ]
    },
    {
      "cell_type": "markdown",
      "source": [
        "# 22. Generate a dataset and implement both variance and standard deviation computations."
      ],
      "metadata": {
        "id": "8LMD5CkQq8Xf"
      }
    },
    {
      "cell_type": "code",
      "metadata": {
        "colab": {
          "base_uri": "https://localhost:8080/"
        },
        "id": "a5bbf39f",
        "outputId": "91e2fbed-b6e3-4363-a44f-bd2a7727bcc1"
      },
      "source": [
        "import numpy as np\n",
        "import statistics\n",
        "\n",
        "# Generate a sample dataset\n",
        "np.random.seed(10) # for reproducibility\n",
        "sample_data = np.random.normal(loc=70, scale=15, size=50) # 50 data points from a normal distribution\n",
        "\n",
        "print(\"Sample Dataset:\")\n",
        "print(sample_data[:10]) # Displaying the first 10 elements\n",
        "\n",
        "# Calculate variance and standard deviation using the function defined earlier\n",
        "variance, std_dev = calculate_variance_and_std_dev(sample_data)\n",
        "\n",
        "if variance is not None:\n",
        "  print(f\"\\nSample Variance: {variance:.2f}\")\n",
        "  print(f\"Sample Standard Deviation: {std_dev:.2f}\")\n",
        "else:\n",
        "  print(\"\\nDataset must contain at least two data points to calculate variance and standard deviation.\")"
      ],
      "execution_count": 39,
      "outputs": [
        {
          "output_type": "stream",
          "name": "stdout",
          "text": [
            "Sample Dataset:\n",
            "[89.97379756 80.72918462 46.81899562 69.87424225 79.32003961 59.19871659\n",
            " 73.98267379 71.62822789 70.06437146 67.38099684]\n",
            "\n",
            "Sample Variance: 186.37\n",
            "Sample Standard Deviation: 13.65\n"
          ]
        }
      ]
    },
    {
      "cell_type": "markdown",
      "source": [
        "# 23. Visualize skewness and kurtosis using Python libraries like matplotlib or seaborn."
      ],
      "metadata": {
        "id": "4JUbIHjerQFD"
      }
    },
    {
      "cell_type": "code",
      "metadata": {
        "colab": {
          "base_uri": "https://localhost:8080/",
          "height": 436
        },
        "id": "0908db55",
        "outputId": "6f8ef7e0-c932-40cf-ed83-edd8b48765dd"
      },
      "source": [
        "import matplotlib.pyplot as plt\n",
        "import seaborn as sns\n",
        "\n",
        "# Visualize the distribution of the sample_data\n",
        "plt.figure(figsize=(10, 6))\n",
        "sns.histplot(sample_data, kde=True)\n",
        "plt.title('Distribution of Sample Data')\n",
        "plt.xlabel('Values')\n",
        "plt.ylabel('Frequency')\n",
        "plt.show()"
      ],
      "execution_count": 40,
      "outputs": [
        {
          "output_type": "display_data",
          "data": {
            "text/plain": [
              "<Figure size 1000x600 with 1 Axes>"
            ],
            "image/png": "[encoded data removed]"
          },
          "metadata": {}
        }
      ]
    },
    {
      "cell_type": "markdown",
      "source": [
        "# 24.Implement the Pearson and Spearman correlation coefficients for a dataset."
      ],
      "metadata": {
        "id": "lslCLmsJrgwO"
      }
    },
    {
      "cell_type": "code",
      "source": [
        "import numpy as np\n",
        "import pandas as pd\n",
        "from scipy.stats import pearsonr, spearmanr\n",
        "\n",
        "\n",
        "data = {\n",
        "    'x': [10, 8, 13, 9, 11, 14, 6, 4, 12, 7, 5],\n",
        "    'y': [8.04, 6.95, 7.58, 8.81, 8.33, 9.96, 7.24, 4.26, 10.84, 4.82, 5.68]\n",
        "}\n",
        "df = pd.DataFrame(data)\n",
        "\n",
        "# Calculate Pearson correlation\n",
        "pearson_coef, pearson_p_value = pearsonr(df['x'], df['y'])\n",
        "\n",
        "# Calculate Spearman correlation\n",
        "spearman_coef, spearman_p_value = spearmanr(df['x'], df['y'])\n",
        "\n",
        "# Print the results\n",
        "print(\"Pearson Correlation:\")\n",
        "print(f\"  Coefficient: {pearson_coef:.3f}\")\n",
        "print(f\"  P-value: {pearson_p_value:.3f}\")\n",
        "print(\"\\nSpearman Correlation:\")\n",
        "print(f\"  Coefficient: {spearman_coef:.3f}\")\n",
        "print(f\"  P-value: {spearman_p_value:.3f}\")"
      ],
      "metadata": {
        "colab": {
          "base_uri": "https://localhost:8080/"
        },
        "id": "Uvvom1fYsIEh",
        "outputId": "9919e2a1-f6ff-4b0e-9cee-443753a0583f"
      },
      "execution_count": 43,
      "outputs": [
        {
          "output_type": "stream",
          "name": "stdout",
          "text": [
            "Pearson Correlation:\n",
            "  Coefficient: 0.816\n",
            "  P-value: 0.002\n",
            "\n",
            "Spearman Correlation:\n",
            "  Coefficient: 0.818\n",
            "  P-value: 0.002\n"
          ]
        }
      ]
    }
  ]
}